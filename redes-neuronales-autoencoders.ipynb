{
 "cells": [
  {
   "cell_type": "markdown",
   "id": "d91c9846",
   "metadata": {
    "papermill": {
     "duration": 0.006506,
     "end_time": "2023-06-28T22:51:35.864251",
     "exception": false,
     "start_time": "2023-06-28T22:51:35.857745",
     "status": "completed"
    },
    "tags": []
   },
   "source": [
    "# Redes Neuronales Autoencoders\n",
    "\n",
    "Redes Neuronales Autoencoders. Este tipo de red neuronal se utiliza comúnmente para aprender codificaciones de datos de entrada eficientes en un proceso no supervisado. Las aplicaciones típicas de los autoencoders incluyen la reducción de dimensionalidad, la denoising de imágenes y la generación de imágenes."
   ]
  },
  {
   "cell_type": "code",
   "execution_count": 1,
   "id": "cf269ad9",
   "metadata": {
    "ExecuteTime": {
     "end_time": "2023-06-08T22:44:36.572618Z",
     "start_time": "2023-06-08T22:44:32.362853Z"
    },
    "collapsed": false,
    "execution": {
     "iopub.execute_input": "2023-06-28T22:51:35.878347Z",
     "iopub.status.busy": "2023-06-28T22:51:35.877627Z",
     "iopub.status.idle": "2023-06-28T22:51:44.027890Z",
     "shell.execute_reply": "2023-06-28T22:51:44.026923Z"
    },
    "jupyter": {
     "outputs_hidden": false
    },
    "papermill": {
     "duration": 8.160208,
     "end_time": "2023-06-28T22:51:44.030537",
     "exception": false,
     "start_time": "2023-06-28T22:51:35.870329",
     "status": "completed"
    },
    "tags": []
   },
   "outputs": [
    {
     "name": "stderr",
     "output_type": "stream",
     "text": [
      "/opt/conda/lib/python3.10/site-packages/tensorflow_io/python/ops/__init__.py:98: UserWarning: unable to load libtensorflow_io_plugins.so: unable to open file: libtensorflow_io_plugins.so, from paths: ['/opt/conda/lib/python3.10/site-packages/tensorflow_io/python/ops/libtensorflow_io_plugins.so']\n",
      "caused by: ['/opt/conda/lib/python3.10/site-packages/tensorflow_io/python/ops/libtensorflow_io_plugins.so: undefined symbol: _ZN3tsl6StatusC1EN10tensorflow5error4CodeESt17basic_string_viewIcSt11char_traitsIcEENS_14SourceLocationE']\n",
      "  warnings.warn(f\"unable to load libtensorflow_io_plugins.so: {e}\")\n",
      "/opt/conda/lib/python3.10/site-packages/tensorflow_io/python/ops/__init__.py:104: UserWarning: file system plugins are not loaded: unable to open file: libtensorflow_io.so, from paths: ['/opt/conda/lib/python3.10/site-packages/tensorflow_io/python/ops/libtensorflow_io.so']\n",
      "caused by: ['/opt/conda/lib/python3.10/site-packages/tensorflow_io/python/ops/libtensorflow_io.so: undefined symbol: _ZTVN10tensorflow13GcsFileSystemE']\n",
      "  warnings.warn(f\"file system plugins are not loaded: {e}\")\n"
     ]
    }
   ],
   "source": [
    "# Importamos las librerias\n",
    "\n",
    "import numpy as np\n",
    "import matplotlib.pyplot as plt\n",
    "from keras.datasets import mnist\n",
    "from keras.models import Model\n",
    "from keras.layers import Input, Dense"
   ]
  },
  {
   "cell_type": "code",
   "execution_count": 2,
   "id": "e6ac0f18",
   "metadata": {
    "ExecuteTime": {
     "end_time": "2023-06-08T22:44:36.839892Z",
     "start_time": "2023-06-08T22:44:36.572972Z"
    },
    "collapsed": false,
    "execution": {
     "iopub.execute_input": "2023-06-28T22:51:44.045401Z",
     "iopub.status.busy": "2023-06-28T22:51:44.044195Z",
     "iopub.status.idle": "2023-06-28T22:51:46.311623Z",
     "shell.execute_reply": "2023-06-28T22:51:46.310211Z"
    },
    "jupyter": {
     "outputs_hidden": false
    },
    "papermill": {
     "duration": 2.277916,
     "end_time": "2023-06-28T22:51:46.314851",
     "exception": false,
     "start_time": "2023-06-28T22:51:44.036935",
     "status": "completed"
    },
    "tags": []
   },
   "outputs": [
    {
     "name": "stdout",
     "output_type": "stream",
     "text": [
      "Downloading data from https://storage.googleapis.com/tensorflow/tf-keras-datasets/mnist.npz\n",
      "11490434/11490434 [==============================] - 1s 0us/step\n"
     ]
    }
   ],
   "source": [
    "# Cargamos los datos de MNIST\n",
    "\n",
    "(x_train, _), (x_test, _) = mnist.load_data() # no necesitamos las etiquetas para este ejercicio ya que es no supervisado."
   ]
  },
  {
   "cell_type": "code",
   "execution_count": 3,
   "id": "687359e5",
   "metadata": {
    "ExecuteTime": {
     "end_time": "2023-06-08T22:44:36.894350Z",
     "start_time": "2023-06-08T22:44:36.790556Z"
    },
    "collapsed": false,
    "execution": {
     "iopub.execute_input": "2023-06-28T22:51:46.337075Z",
     "iopub.status.busy": "2023-06-28T22:51:46.336683Z",
     "iopub.status.idle": "2023-06-28T22:51:46.440944Z",
     "shell.execute_reply": "2023-06-28T22:51:46.439720Z"
    },
    "jupyter": {
     "outputs_hidden": false
    },
    "papermill": {
     "duration": 0.117617,
     "end_time": "2023-06-28T22:51:46.443747",
     "exception": false,
     "start_time": "2023-06-28T22:51:46.326130",
     "status": "completed"
    },
    "tags": []
   },
   "outputs": [],
   "source": [
    "# Normalizamos los datos\n",
    "\n",
    "x_train = x_train.astype('float32') / 255.\n",
    "x_test = x_test.astype('float32') / 255."
   ]
  },
  {
   "cell_type": "code",
   "execution_count": 4,
   "id": "c728abb9",
   "metadata": {
    "ExecuteTime": {
     "end_time": "2023-06-08T22:44:36.898646Z",
     "start_time": "2023-06-08T22:44:36.895910Z"
    },
    "collapsed": false,
    "execution": {
     "iopub.execute_input": "2023-06-28T22:51:46.462045Z",
     "iopub.status.busy": "2023-06-28T22:51:46.461606Z",
     "iopub.status.idle": "2023-06-28T22:51:46.467847Z",
     "shell.execute_reply": "2023-06-28T22:51:46.466636Z"
    },
    "jupyter": {
     "outputs_hidden": false
    },
    "papermill": {
     "duration": 0.018779,
     "end_time": "2023-06-28T22:51:46.470869",
     "exception": false,
     "start_time": "2023-06-28T22:51:46.452090",
     "status": "completed"
    },
    "tags": []
   },
   "outputs": [],
   "source": [
    "# Redimensionamos los datos\n",
    "\n",
    "x_train = x_train.reshape((len(x_train), np.prod(x_train.shape[1:]))) # 60000 filas y 784 columnas\n",
    "x_test = x_test.reshape((len(x_test), np.prod(x_test.shape[1:]))) # 10000 filas y 784 columnas"
   ]
  },
  {
   "cell_type": "code",
   "execution_count": 5,
   "id": "3c804095",
   "metadata": {
    "ExecuteTime": {
     "end_time": "2023-06-08T22:45:18.518249Z",
     "start_time": "2023-06-08T22:44:36.902927Z"
    },
    "collapsed": false,
    "execution": {
     "iopub.execute_input": "2023-06-28T22:51:46.496328Z",
     "iopub.status.busy": "2023-06-28T22:51:46.495931Z",
     "iopub.status.idle": "2023-06-28T22:54:10.022364Z",
     "shell.execute_reply": "2023-06-28T22:54:10.021231Z"
    },
    "jupyter": {
     "outputs_hidden": false
    },
    "papermill": {
     "duration": 143.697455,
     "end_time": "2023-06-28T22:54:10.181929",
     "exception": false,
     "start_time": "2023-06-28T22:51:46.484474",
     "status": "completed"
    },
    "tags": []
   },
   "outputs": [
    {
     "name": "stdout",
     "output_type": "stream",
     "text": [
      "Epoch 1/50\n",
      "235/235 [==============================] - 3s 10ms/step - loss: 0.2789 - val_loss: 0.1920\n",
      "Epoch 2/50\n",
      "235/235 [==============================] - 2s 8ms/step - loss: 0.1721 - val_loss: 0.1529\n",
      "Epoch 3/50\n",
      "235/235 [==============================] - 2s 9ms/step - loss: 0.1430 - val_loss: 0.1320\n",
      "Epoch 4/50\n",
      "235/235 [==============================] - 2s 8ms/step - loss: 0.1271 - val_loss: 0.1198\n",
      "Epoch 5/50\n",
      "235/235 [==============================] - 2s 8ms/step - loss: 0.1169 - val_loss: 0.1115\n",
      "Epoch 6/50\n",
      "235/235 [==============================] - 2s 8ms/step - loss: 0.1098 - val_loss: 0.1057\n",
      "Epoch 7/50\n",
      "235/235 [==============================] - 2s 8ms/step - loss: 0.1048 - val_loss: 0.1017\n",
      "Epoch 8/50\n",
      "235/235 [==============================] - 2s 8ms/step - loss: 0.1013 - val_loss: 0.0986\n",
      "Epoch 9/50\n",
      "235/235 [==============================] - 2s 8ms/step - loss: 0.0989 - val_loss: 0.0967\n",
      "Epoch 10/50\n",
      "235/235 [==============================] - 2s 8ms/step - loss: 0.0972 - val_loss: 0.0953\n",
      "Epoch 11/50\n",
      "235/235 [==============================] - 2s 8ms/step - loss: 0.0961 - val_loss: 0.0944\n",
      "Epoch 12/50\n",
      "235/235 [==============================] - 2s 8ms/step - loss: 0.0954 - val_loss: 0.0938\n",
      "Epoch 13/50\n",
      "235/235 [==============================] - 2s 8ms/step - loss: 0.0949 - val_loss: 0.0935\n",
      "Epoch 14/50\n",
      "235/235 [==============================] - 2s 9ms/step - loss: 0.0946 - val_loss: 0.0933\n",
      "Epoch 15/50\n",
      "235/235 [==============================] - 2s 8ms/step - loss: 0.0943 - val_loss: 0.0928\n",
      "Epoch 16/50\n",
      "235/235 [==============================] - 2s 8ms/step - loss: 0.0941 - val_loss: 0.0928\n",
      "Epoch 17/50\n",
      "235/235 [==============================] - 2s 8ms/step - loss: 0.0939 - val_loss: 0.0926\n",
      "Epoch 18/50\n",
      "235/235 [==============================] - 2s 8ms/step - loss: 0.0938 - val_loss: 0.0924\n",
      "Epoch 19/50\n",
      "235/235 [==============================] - 2s 9ms/step - loss: 0.0937 - val_loss: 0.0924\n",
      "Epoch 20/50\n",
      "235/235 [==============================] - 2s 8ms/step - loss: 0.0936 - val_loss: 0.0922\n",
      "Epoch 21/50\n",
      "235/235 [==============================] - 2s 8ms/step - loss: 0.0935 - val_loss: 0.0922\n",
      "Epoch 22/50\n",
      "235/235 [==============================] - 2s 9ms/step - loss: 0.0934 - val_loss: 0.0921\n",
      "Epoch 23/50\n",
      "235/235 [==============================] - 2s 8ms/step - loss: 0.0934 - val_loss: 0.0921\n",
      "Epoch 24/50\n",
      "235/235 [==============================] - 2s 9ms/step - loss: 0.0933 - val_loss: 0.0920\n",
      "Epoch 25/50\n",
      "235/235 [==============================] - 2s 9ms/step - loss: 0.0932 - val_loss: 0.0920\n",
      "Epoch 26/50\n",
      "235/235 [==============================] - 2s 9ms/step - loss: 0.0932 - val_loss: 0.0919\n",
      "Epoch 27/50\n",
      "235/235 [==============================] - 2s 8ms/step - loss: 0.0931 - val_loss: 0.0918\n",
      "Epoch 28/50\n",
      "235/235 [==============================] - 2s 8ms/step - loss: 0.0931 - val_loss: 0.0918\n",
      "Epoch 29/50\n",
      "235/235 [==============================] - 2s 8ms/step - loss: 0.0930 - val_loss: 0.0918\n",
      "Epoch 30/50\n",
      "235/235 [==============================] - 2s 8ms/step - loss: 0.0930 - val_loss: 0.0918\n",
      "Epoch 31/50\n",
      "235/235 [==============================] - 2s 8ms/step - loss: 0.0930 - val_loss: 0.0917\n",
      "Epoch 32/50\n",
      "235/235 [==============================] - 2s 9ms/step - loss: 0.0929 - val_loss: 0.0917\n",
      "Epoch 33/50\n",
      "235/235 [==============================] - 2s 8ms/step - loss: 0.0929 - val_loss: 0.0917\n",
      "Epoch 34/50\n",
      "235/235 [==============================] - 2s 8ms/step - loss: 0.0929 - val_loss: 0.0917\n",
      "Epoch 35/50\n",
      "235/235 [==============================] - 2s 9ms/step - loss: 0.0929 - val_loss: 0.0916\n",
      "Epoch 36/50\n",
      "235/235 [==============================] - 2s 8ms/step - loss: 0.0928 - val_loss: 0.0916\n",
      "Epoch 37/50\n",
      "235/235 [==============================] - 2s 8ms/step - loss: 0.0928 - val_loss: 0.0916\n",
      "Epoch 38/50\n",
      "235/235 [==============================] - 2s 8ms/step - loss: 0.0928 - val_loss: 0.0916\n",
      "Epoch 39/50\n",
      "235/235 [==============================] - 2s 9ms/step - loss: 0.0928 - val_loss: 0.0916\n",
      "Epoch 40/50\n",
      "235/235 [==============================] - 2s 8ms/step - loss: 0.0927 - val_loss: 0.0916\n",
      "Epoch 41/50\n",
      "235/235 [==============================] - 2s 8ms/step - loss: 0.0927 - val_loss: 0.0915\n",
      "Epoch 42/50\n",
      "235/235 [==============================] - 2s 9ms/step - loss: 0.0927 - val_loss: 0.0915\n",
      "Epoch 43/50\n",
      "235/235 [==============================] - 2s 8ms/step - loss: 0.0927 - val_loss: 0.0915\n",
      "Epoch 44/50\n",
      "235/235 [==============================] - 2s 8ms/step - loss: 0.0927 - val_loss: 0.0915\n",
      "Epoch 45/50\n",
      "235/235 [==============================] - 2s 8ms/step - loss: 0.0927 - val_loss: 0.0915\n",
      "Epoch 46/50\n",
      "235/235 [==============================] - 2s 8ms/step - loss: 0.0927 - val_loss: 0.0915\n",
      "Epoch 47/50\n",
      "235/235 [==============================] - 2s 8ms/step - loss: 0.0926 - val_loss: 0.0915\n",
      "Epoch 48/50\n",
      "235/235 [==============================] - 2s 8ms/step - loss: 0.0926 - val_loss: 0.0915\n",
      "Epoch 49/50\n",
      "235/235 [==============================] - 2s 9ms/step - loss: 0.0926 - val_loss: 0.0915\n",
      "Epoch 50/50\n",
      "235/235 [==============================] - 2s 8ms/step - loss: 0.0926 - val_loss: 0.0915\n"
     ]
    },
    {
     "data": {
      "text/plain": [
       "<keras.callbacks.History at 0x7a9c1c9f2e90>"
      ]
     },
     "execution_count": 5,
     "metadata": {},
     "output_type": "execute_result"
    }
   ],
   "source": [
    "# Construimos el modelo de autoencoder\n",
    "\n",
    "# Definimos la arquitectura del modelo\n",
    "encoding_dim = 32\n",
    "\n",
    "input_img = Input(shape=(784,))\n",
    "encoded = Dense(encoding_dim, activation='relu', name='bottleneck')(input_img)\n",
    "decoded = Dense(784, activation='sigmoid')(encoded)\n",
    "\n",
    "# Creamos el autoencoder\n",
    "autoencoder = Model(inputs=input_img, outputs=decoded)\n",
    "\n",
    "# Compilamos el modelo\n",
    "autoencoder.compile(optimizer='adam', loss='binary_crossentropy')\n",
    "\n",
    "# Entrenamos el modelo\n",
    "autoencoder.fit(x_train, x_train,\n",
    "                epochs=50,\n",
    "                batch_size=256,\n",
    "                shuffle=True,\n",
    "                validation_data=(x_test, x_test))"
   ]
  },
  {
   "cell_type": "markdown",
   "id": "69b57a39",
   "metadata": {
    "papermill": {
     "duration": 0.156409,
     "end_time": "2023-06-28T22:54:10.496077",
     "exception": false,
     "start_time": "2023-06-28T22:54:10.339668",
     "status": "completed"
    },
    "tags": []
   },
   "source": [
    "Esto construirá un simple autoencoder donde la imagen de entrada se comprime a una representación de 32 dimensiones y luego se reconstruye de nuevo a una imagen de 784 dimensiones."
   ]
  },
  {
   "cell_type": "markdown",
   "id": "f537faa8",
   "metadata": {
    "papermill": {
     "duration": 0.156688,
     "end_time": "2023-06-28T22:54:10.809862",
     "exception": false,
     "start_time": "2023-06-28T22:54:10.653174",
     "status": "completed"
    },
    "tags": []
   },
   "source": [
    "### Definir los modelos del encoder y decoder por separado\n",
    "\n",
    "Definir los modelos del encoder y decoder por separado nos permitirá utilizarlos individualmente una vez que hayamos entrenado nuestro autoencoder. Esto puede ser útil, por ejemplo, para visualizar la representación comprimida de nuestras imágenes o para generar nuevas imágenes a partir de representaciones comprimidas."
   ]
  },
  {
   "cell_type": "code",
   "execution_count": 6,
   "id": "96940564",
   "metadata": {
    "ExecuteTime": {
     "end_time": "2023-06-08T22:45:18.557395Z",
     "start_time": "2023-06-08T22:45:18.526786Z"
    },
    "collapsed": false,
    "execution": {
     "iopub.execute_input": "2023-06-28T22:54:11.128596Z",
     "iopub.status.busy": "2023-06-28T22:54:11.127882Z",
     "iopub.status.idle": "2023-06-28T22:54:11.148726Z",
     "shell.execute_reply": "2023-06-28T22:54:11.147640Z"
    },
    "jupyter": {
     "outputs_hidden": false
    },
    "papermill": {
     "duration": 0.183214,
     "end_time": "2023-06-28T22:54:11.151179",
     "exception": false,
     "start_time": "2023-06-28T22:54:10.967965",
     "status": "completed"
    },
    "tags": []
   },
   "outputs": [],
   "source": [
    "# Este modelo mapea una entrada a su representación comprimida\n",
    "encoder = Model(input_img, encoded)\n",
    "\n",
    "# Creamos un placeholder para la entrada codificada (de tamaño 32)\n",
    "encoded_input = Input(shape=(encoding_dim,))\n",
    "\n",
    "# Recuperamos la última capa de nuestro modelo autoencoder\n",
    "decoder_layer = autoencoder.layers[-1]\n",
    "\n",
    "# Creamos el modelo del decoder\n",
    "decoder = Model(encoded_input, decoder_layer(encoded_input))"
   ]
  },
  {
   "cell_type": "markdown",
   "id": "85d5991b",
   "metadata": {
    "papermill": {
     "duration": 0.154909,
     "end_time": "2023-06-28T22:54:11.463360",
     "exception": false,
     "start_time": "2023-06-28T22:54:11.308451",
     "status": "completed"
    },
    "tags": []
   },
   "source": [
    "### Entrenar el autoencoder\n",
    "\n",
    "Para entrenar nuestro autoencoder, simplemente necesitamos llamar a la función fit del modelo, igual que haríamos con cualquier otro modelo de Keras. Sin embargo, hay una peculiaridad cuando entrenamos un autoencoder: utilizamos las mismas imágenes como entrada y como objetivo (o \"etiqueta\"). Esto se debe a que un autoencoder intenta aprender a reconstruir sus entradas lo mejor posible."
   ]
  },
  {
   "cell_type": "code",
   "execution_count": 7,
   "id": "6099c1af",
   "metadata": {
    "ExecuteTime": {
     "end_time": "2023-06-08T22:45:58.848029Z",
     "start_time": "2023-06-08T22:45:18.545796Z"
    },
    "collapsed": false,
    "execution": {
     "iopub.execute_input": "2023-06-28T22:54:11.777994Z",
     "iopub.status.busy": "2023-06-28T22:54:11.777285Z",
     "iopub.status.idle": "2023-06-28T22:56:34.727192Z",
     "shell.execute_reply": "2023-06-28T22:56:34.726335Z"
    },
    "jupyter": {
     "outputs_hidden": false
    },
    "papermill": {
     "duration": 143.420686,
     "end_time": "2023-06-28T22:56:35.039728",
     "exception": false,
     "start_time": "2023-06-28T22:54:11.619042",
     "status": "completed"
    },
    "tags": []
   },
   "outputs": [
    {
     "name": "stdout",
     "output_type": "stream",
     "text": [
      "Epoch 1/50\n",
      "235/235 [==============================] - 3s 9ms/step - loss: 0.0926 - val_loss: 0.0914\n",
      "Epoch 2/50\n",
      "235/235 [==============================] - 2s 9ms/step - loss: 0.0926 - val_loss: 0.0914\n",
      "Epoch 3/50\n",
      "235/235 [==============================] - 2s 8ms/step - loss: 0.0926 - val_loss: 0.0914\n",
      "Epoch 4/50\n",
      "235/235 [==============================] - 2s 8ms/step - loss: 0.0926 - val_loss: 0.0915\n",
      "Epoch 5/50\n",
      "235/235 [==============================] - 2s 8ms/step - loss: 0.0926 - val_loss: 0.0915\n",
      "Epoch 6/50\n",
      "235/235 [==============================] - 2s 8ms/step - loss: 0.0925 - val_loss: 0.0914\n",
      "Epoch 7/50\n",
      "235/235 [==============================] - 2s 9ms/step - loss: 0.0926 - val_loss: 0.0914\n",
      "Epoch 8/50\n",
      "235/235 [==============================] - 2s 8ms/step - loss: 0.0926 - val_loss: 0.0915\n",
      "Epoch 9/50\n",
      "235/235 [==============================] - 2s 8ms/step - loss: 0.0925 - val_loss: 0.0914\n",
      "Epoch 10/50\n",
      "235/235 [==============================] - 2s 8ms/step - loss: 0.0925 - val_loss: 0.0914\n",
      "Epoch 11/50\n",
      "235/235 [==============================] - 2s 8ms/step - loss: 0.0925 - val_loss: 0.0914\n",
      "Epoch 12/50\n",
      "235/235 [==============================] - 2s 9ms/step - loss: 0.0925 - val_loss: 0.0914\n",
      "Epoch 13/50\n",
      "235/235 [==============================] - 2s 8ms/step - loss: 0.0925 - val_loss: 0.0914\n",
      "Epoch 14/50\n",
      "235/235 [==============================] - 2s 8ms/step - loss: 0.0925 - val_loss: 0.0914\n",
      "Epoch 15/50\n",
      "235/235 [==============================] - 2s 8ms/step - loss: 0.0925 - val_loss: 0.0914\n",
      "Epoch 16/50\n",
      "235/235 [==============================] - 2s 9ms/step - loss: 0.0925 - val_loss: 0.0914\n",
      "Epoch 17/50\n",
      "235/235 [==============================] - 2s 8ms/step - loss: 0.0925 - val_loss: 0.0914\n",
      "Epoch 18/50\n",
      "235/235 [==============================] - 2s 8ms/step - loss: 0.0925 - val_loss: 0.0914\n",
      "Epoch 19/50\n",
      "235/235 [==============================] - 2s 8ms/step - loss: 0.0925 - val_loss: 0.0914\n",
      "Epoch 20/50\n",
      "235/235 [==============================] - 2s 8ms/step - loss: 0.0925 - val_loss: 0.0914\n",
      "Epoch 21/50\n",
      "235/235 [==============================] - 2s 8ms/step - loss: 0.0924 - val_loss: 0.0913\n",
      "Epoch 22/50\n",
      "235/235 [==============================] - 2s 8ms/step - loss: 0.0924 - val_loss: 0.0914\n",
      "Epoch 23/50\n",
      "235/235 [==============================] - 2s 9ms/step - loss: 0.0924 - val_loss: 0.0913\n",
      "Epoch 24/50\n",
      "235/235 [==============================] - 2s 8ms/step - loss: 0.0924 - val_loss: 0.0913\n",
      "Epoch 25/50\n",
      "235/235 [==============================] - 2s 8ms/step - loss: 0.0924 - val_loss: 0.0913\n",
      "Epoch 26/50\n",
      "235/235 [==============================] - 2s 8ms/step - loss: 0.0924 - val_loss: 0.0914\n",
      "Epoch 27/50\n",
      "235/235 [==============================] - 2s 8ms/step - loss: 0.0924 - val_loss: 0.0913\n",
      "Epoch 28/50\n",
      "235/235 [==============================] - 2s 8ms/step - loss: 0.0924 - val_loss: 0.0915\n",
      "Epoch 29/50\n",
      "235/235 [==============================] - 2s 8ms/step - loss: 0.0924 - val_loss: 0.0913\n",
      "Epoch 30/50\n",
      "235/235 [==============================] - 2s 8ms/step - loss: 0.0924 - val_loss: 0.0913\n",
      "Epoch 31/50\n",
      "235/235 [==============================] - 2s 9ms/step - loss: 0.0924 - val_loss: 0.0913\n",
      "Epoch 32/50\n",
      "235/235 [==============================] - 2s 9ms/step - loss: 0.0924 - val_loss: 0.0914\n",
      "Epoch 33/50\n",
      "235/235 [==============================] - 2s 9ms/step - loss: 0.0924 - val_loss: 0.0914\n",
      "Epoch 34/50\n",
      "235/235 [==============================] - 2s 9ms/step - loss: 0.0924 - val_loss: 0.0913\n",
      "Epoch 35/50\n",
      "235/235 [==============================] - 2s 8ms/step - loss: 0.0924 - val_loss: 0.0913\n",
      "Epoch 36/50\n",
      "235/235 [==============================] - 2s 8ms/step - loss: 0.0924 - val_loss: 0.0913\n",
      "Epoch 37/50\n",
      "235/235 [==============================] - 2s 9ms/step - loss: 0.0924 - val_loss: 0.0913\n",
      "Epoch 38/50\n",
      "235/235 [==============================] - 2s 8ms/step - loss: 0.0923 - val_loss: 0.0913\n",
      "Epoch 39/50\n",
      "235/235 [==============================] - 2s 8ms/step - loss: 0.0923 - val_loss: 0.0913\n",
      "Epoch 40/50\n",
      "235/235 [==============================] - 2s 9ms/step - loss: 0.0923 - val_loss: 0.0913\n",
      "Epoch 41/50\n",
      "235/235 [==============================] - 2s 8ms/step - loss: 0.0923 - val_loss: 0.0913\n",
      "Epoch 42/50\n",
      "235/235 [==============================] - 2s 8ms/step - loss: 0.0923 - val_loss: 0.0912\n",
      "Epoch 43/50\n",
      "235/235 [==============================] - 2s 9ms/step - loss: 0.0923 - val_loss: 0.0912\n",
      "Epoch 44/50\n",
      "235/235 [==============================] - 2s 9ms/step - loss: 0.0923 - val_loss: 0.0913\n",
      "Epoch 45/50\n",
      "235/235 [==============================] - 2s 8ms/step - loss: 0.0923 - val_loss: 0.0913\n",
      "Epoch 46/50\n",
      "235/235 [==============================] - 2s 8ms/step - loss: 0.0923 - val_loss: 0.0913\n",
      "Epoch 47/50\n",
      "235/235 [==============================] - 2s 8ms/step - loss: 0.0923 - val_loss: 0.0912\n",
      "Epoch 48/50\n",
      "235/235 [==============================] - 2s 8ms/step - loss: 0.0923 - val_loss: 0.0913\n",
      "Epoch 49/50\n",
      "235/235 [==============================] - 2s 8ms/step - loss: 0.0923 - val_loss: 0.0912\n",
      "Epoch 50/50\n",
      "235/235 [==============================] - 2s 8ms/step - loss: 0.0923 - val_loss: 0.0913\n"
     ]
    },
    {
     "data": {
      "text/plain": [
       "<keras.callbacks.History at 0x7a9c08497a60>"
      ]
     },
     "execution_count": 7,
     "metadata": {},
     "output_type": "execute_result"
    }
   ],
   "source": [
    "# Entrenar el autoencoder\n",
    "autoencoder.compile(optimizer='adam', loss='binary_crossentropy')\n",
    "autoencoder.fit(x_train, x_train,\n",
    "                epochs=50,\n",
    "                batch_size=256,\n",
    "                shuffle=True,\n",
    "                validation_data=(x_test, x_test))"
   ]
  },
  {
   "cell_type": "markdown",
   "id": "fe3bcbfe",
   "metadata": {
    "papermill": {
     "duration": 0.3051,
     "end_time": "2023-06-28T22:56:35.653415",
     "exception": false,
     "start_time": "2023-06-28T22:56:35.348315",
     "status": "completed"
    },
    "tags": []
   },
   "source": [
    "Estamos utilizando el optimizador Adam y la pérdida de la entropía cruzada binaria como nuestra función de pérdida. La entropía cruzada binaria es una buena opción en este caso porque estamos trabajando con imágenes en escala de grises, que pueden considerarse como valores de probabilidad (entre 0 y 1)."
   ]
  },
  {
   "cell_type": "code",
   "execution_count": 8,
   "id": "ddfca44e",
   "metadata": {
    "ExecuteTime": {
     "end_time": "2023-06-08T22:45:59.529071Z",
     "start_time": "2023-06-08T22:45:58.848480Z"
    },
    "collapsed": false,
    "execution": {
     "iopub.execute_input": "2023-06-28T22:56:36.274815Z",
     "iopub.status.busy": "2023-06-28T22:56:36.273604Z",
     "iopub.status.idle": "2023-06-28T22:56:37.666078Z",
     "shell.execute_reply": "2023-06-28T22:56:37.664922Z"
    },
    "jupyter": {
     "outputs_hidden": false
    },
    "papermill": {
     "duration": 1.707696,
     "end_time": "2023-06-28T22:56:37.669087",
     "exception": false,
     "start_time": "2023-06-28T22:56:35.961391",
     "status": "completed"
    },
    "tags": []
   },
   "outputs": [
    {
     "name": "stdout",
     "output_type": "stream",
     "text": [
      "313/313 [==============================] - 0s 1ms/step\n",
      "313/313 [==============================] - 0s 1ms/step\n"
     ]
    }
   ],
   "source": [
    "# Codificamos y decodificamos algunos dígitos de prueba\n",
    "\n",
    "encoded_imgs = encoder.predict(x_test)\n",
    "decoded_imgs = decoder.predict(encoded_imgs)"
   ]
  },
  {
   "cell_type": "code",
   "execution_count": 9,
   "id": "66572d7f",
   "metadata": {
    "ExecuteTime": {
     "end_time": "2023-06-08T22:46:00.046777Z",
     "start_time": "2023-06-08T22:45:59.536644Z"
    },
    "collapsed": false,
    "execution": {
     "iopub.execute_input": "2023-06-28T22:56:38.296661Z",
     "iopub.status.busy": "2023-06-28T22:56:38.296260Z",
     "iopub.status.idle": "2023-06-28T22:56:39.208580Z",
     "shell.execute_reply": "2023-06-28T22:56:39.207608Z"
    },
    "jupyter": {
     "outputs_hidden": false
    },
    "papermill": {
     "duration": 1.228359,
     "end_time": "2023-06-28T22:56:39.211008",
     "exception": false,
     "start_time": "2023-06-28T22:56:37.982649",
     "status": "completed"
    },
    "tags": []
   },
   "outputs": [
    {
     "name": "stdout",
     "output_type": "stream",
     "text": [
      "1/1 [==============================] - 0s 52ms/step\n"
     ]
    },
    {
     "data": {
      "image/png": "[encoded data removed]",
      "text/plain": [
       "<Figure size 2000x400 with 20 Axes>"
      ]
     },
     "metadata": {},
     "output_type": "display_data"
    }
   ],
   "source": [
    "# Visualizamos la reconstrucción del autoencoder\n",
    "\n",
    "def plot_reconstructions(model, images, n_images=10):\n",
    "    reconstructions = model.predict(images[:n_images])\n",
    "\n",
    "    fig = plt.figure(figsize=(n_images * 2, 4))\n",
    "\n",
    "    for i in range(n_images):\n",
    "        # display original\n",
    "        ax = plt.subplot(2, n_images, i + 1)\n",
    "        plt.imshow(images[i].reshape(28, 28))\n",
    "        plt.gray()\n",
    "        ax.get_xaxis().set_visible(False)\n",
    "        ax.get_yaxis().set_visible(False)\n",
    "\n",
    "        # display reconstruction\n",
    "        ax = plt.subplot(2, n_images, i + 1 + n_images)\n",
    "        plt.imshow(reconstructions[i].reshape(28, 28))\n",
    "        plt.gray()\n",
    "        ax.get_xaxis().set_visible(False)\n",
    "        ax.get_yaxis().set_visible(False)\n",
    "\n",
    "    plt.show()\n",
    "\n",
    "# Visualize the reconstructed images\n",
    "plot_reconstructions(autoencoder, x_test)"
   ]
  },
  {
   "cell_type": "markdown",
   "id": "a16ba6fa",
   "metadata": {
    "papermill": {
     "duration": 0.31327,
     "end_time": "2023-06-28T22:56:39.837422",
     "exception": false,
     "start_time": "2023-06-28T22:56:39.524152",
     "status": "completed"
    },
    "tags": []
   },
   "source": [
    "### Uso de la representación codificada\n",
    "\n",
    "La capa intermedia del autoencoder (la capa de \"cuello de botella\") contiene una representación codificada de la imagen de entrada. Esta representación codificada es una versión comprimida de la imagen de entrada, y puede ser útil para varias tareas.\n",
    "\n",
    "Para extraer la representación codificada, podemos crear un nuevo modelo que tenga la misma arquitectura que el autoencoder hasta la capa de cuello de botella."
   ]
  },
  {
   "cell_type": "code",
   "execution_count": 10,
   "id": "01e5cce8",
   "metadata": {
    "ExecuteTime": {
     "end_time": "2023-06-08T22:46:00.311141Z",
     "start_time": "2023-06-08T22:46:00.047971Z"
    },
    "collapsed": false,
    "execution": {
     "iopub.execute_input": "2023-06-28T22:56:40.529963Z",
     "iopub.status.busy": "2023-06-28T22:56:40.529535Z",
     "iopub.status.idle": "2023-06-28T22:56:41.253188Z",
     "shell.execute_reply": "2023-06-28T22:56:41.251858Z"
    },
    "jupyter": {
     "outputs_hidden": false
    },
    "papermill": {
     "duration": 1.037748,
     "end_time": "2023-06-28T22:56:41.255571",
     "exception": false,
     "start_time": "2023-06-28T22:56:40.217823",
     "status": "completed"
    },
    "tags": []
   },
   "outputs": [
    {
     "name": "stdout",
     "output_type": "stream",
     "text": [
      "313/313 [==============================] - 0s 1ms/step\n",
      "Shape of encoded images: (10000, 32)\n"
     ]
    }
   ],
   "source": [
    "encoder = Model(inputs=autoencoder.input, outputs=autoencoder.get_layer('bottleneck').output)\n",
    "encoded_imgs = encoder.predict(x_test)\n",
    "\n",
    "print('Shape of encoded images:', encoded_imgs.shape)"
   ]
  },
  {
   "cell_type": "markdown",
   "id": "5dac9dfd",
   "metadata": {
    "papermill": {
     "duration": 0.312792,
     "end_time": "2023-06-28T22:56:41.880298",
     "exception": false,
     "start_time": "2023-06-28T22:56:41.567506",
     "status": "completed"
    },
    "tags": []
   },
   "source": [
    "Ahora que hemos obtenido las representaciones codificadas de nuestras imágenes de prueba, podemos utilizar estos vectores codificados para cualquier propósito que deseemos. Por ejemplo, podríamos usarlos como entrada para otro modelo de aprendizaje automático, usarlos para visualizar los datos en un espacio de menor dimensión, o usarlos para encontrar imágenes similares en nuestro conjunto de datos.\n",
    "\n",
    "El último paso en este proceso es examinar cómo nuestro autoencoder ha reconstruido las imágenes de entrada. Para hacer esto, podemos generar imágenes decodificadas a partir de nuestras imágenes codificadas y luego compararlas con las imágenes de entrada originales."
   ]
  },
  {
   "cell_type": "code",
   "execution_count": 11,
   "id": "b1ff94bd",
   "metadata": {
    "ExecuteTime": {
     "end_time": "2023-06-08T22:47:06.517318Z",
     "start_time": "2023-06-08T22:47:05.814628Z"
    },
    "collapsed": false,
    "execution": {
     "iopub.execute_input": "2023-06-28T22:56:42.509345Z",
     "iopub.status.busy": "2023-06-28T22:56:42.508922Z",
     "iopub.status.idle": "2023-06-28T22:56:43.916288Z",
     "shell.execute_reply": "2023-06-28T22:56:43.915229Z"
    },
    "jupyter": {
     "outputs_hidden": false
    },
    "papermill": {
     "duration": 1.724532,
     "end_time": "2023-06-28T22:56:43.918616",
     "exception": false,
     "start_time": "2023-06-28T22:56:42.194084",
     "status": "completed"
    },
    "tags": []
   },
   "outputs": [
    {
     "name": "stdout",
     "output_type": "stream",
     "text": [
      "313/313 [==============================] - 0s 1ms/step\n"
     ]
    },
    {
     "data": {
      "image/png": "[encoded data removed]",
      "text/plain": [
       "<Figure size 2000x400 with 20 Axes>"
      ]
     },
     "metadata": {},
     "output_type": "display_data"
    }
   ],
   "source": [
    "# Generamos las imágenes decodificadas\n",
    "decoded_imgs = autoencoder.predict(x_test)\n",
    "\n",
    "# Comparamos las imágenes originales con las reconstruidas\n",
    "n = 10  # Número de imágenes que queremos mostrar\n",
    "plt.figure(figsize=(20, 4))\n",
    "for i in range(n):\n",
    "    # Imágenes originales\n",
    "    ax = plt.subplot(2, n, i + 1)\n",
    "    plt.imshow(x_test[i].reshape(28, 28))\n",
    "    plt.gray()\n",
    "    ax.get_xaxis().set_visible(False)\n",
    "    ax.get_yaxis().set_visible(False)\n",
    "\n",
    "    # Imágenes reconstruidas\n",
    "    ax = plt.subplot(2, n, i + 1 + n)\n",
    "    plt.imshow(decoded_imgs[i].reshape(28, 28))\n",
    "    plt.gray()\n",
    "    ax.get_xaxis().set_visible(False)\n",
    "    ax.get_yaxis().set_visible(False)\n",
    "plt.show()"
   ]
  }
 ],
 "metadata": {
  "kernelspec": {
   "display_name": "Python 3",
   "language": "python",
   "name": "python3"
  },
  "language_info": {
   "codemirror_mode": {
    "name": "ipython",
    "version": 3
   },
   "file_extension": ".py",
   "mimetype": "text/x-python",
   "name": "python",
   "nbconvert_exporter": "python",
   "pygments_lexer": "ipython3",
   "version": "3.10.10"
  },
  "papermill": {
   "default_parameters": {},
   "duration": 322.90001,
   "end_time": "2023-06-28T22:56:47.364902",
   "environment_variables": {},
   "exception": null,
   "input_path": "__notebook__.ipynb",
   "output_path": "__notebook__.ipynb",
   "parameters": {},
   "start_time": "2023-06-28T22:51:24.464892",
   "version": "2.4.0"
  }
 },
 "nbformat": 4,
 "nbformat_minor": 5
}
